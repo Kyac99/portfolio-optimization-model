{
 "cells": [
  {
   "cell_type": "markdown",
   "metadata": {},
   "source": [
    "## Analyse de sensibilité aux views (suite)"
   ]
  },
  {
   "cell_type": "code",
   "execution_count": null,
   "metadata": {},
   "outputs": [],
   "source": [
    "# Créer un DataFrame pour la visualisation\n",
    "sensitivity_df = pd.DataFrame(allocation_sensitivity, index=confidence_levels)\n",
    "sensitivity_df.index.name = 'Niveau de confiance'\n",
    "\n",
    "# Afficher le tableau de sensibilité\n",
    "sensitivity_df"
   ]
  },
  {
   "cell_type": "code",
   "execution_count": null,
   "metadata": {},
   "outputs": [],
   "source": [
    "# Visualiser l'effet du niveau de confiance sur les allocations\n",
    "plt.figure(figsize=(12, 8))\n",
    "\n",
    "# Tracer une ligne pour chaque actif\n",
    "for asset in sensitivity_df.columns:\n",
    "    plt.plot(sensitivity_df.index, sensitivity_df[asset], marker='o', label=asset)\n",
    "\n",
    "plt.xlabel('Niveau de confiance dans les views')\n",
    "plt.ylabel('Allocation (%)')\n",
    "plt.title('Sensibilité des allocations au niveau de confiance dans les views')\n",
    "plt.legend()\n",
    "plt.grid(True)\n",
    "plt.tight_layout()\n",
    "plt.show()"
   ]
  },
  {
   "cell_type": "markdown",
   "metadata": {},
   "source": [
    "## 15. Analyse de stabilité des allocations"
   ]
  },
  {
   "cell_type": "code",
   "execution_count": null,
   "metadata": {},
   "outputs": [],
   "source": [
    "# Calculer la stabilité des allocations pour différents niveaux de confiance\n",
    "stability = {}\n",
    "\n",
    "# Pour chaque actif clé, calculer la variation d'allocation\n",
    "for asset in key_assets:\n",
    "    asset_allocations = sensitivity_df[asset]\n",
    "    stability[asset] = {\n",
    "        'min': asset_allocations.min(),\n",
    "        'max': asset_allocations.max(),\n",
    "        'range': asset_allocations.max() - asset_allocations.min(),\n",
    "        'std': asset_allocations.std(),\n",
    "        'coefficient_of_variation': asset_allocations.std() / asset_allocations.mean() if asset_allocations.mean() != 0 else np.nan\n",
    "    }\n",
    "\n",
    "# Créer un DataFrame pour la visualisation\n",
    "stability_df = pd.DataFrame(stability).T\n",
    "stability_df = stability_df.sort_values('range', ascending=False)\n",
    "\n",
    "# Afficher le tableau de stabilité\n",
    "stability_df"
   ]
  },
  {
   "cell_type": "code",
   "execution_count": null,
   "metadata": {},
   "outputs": [],
   "source": [
    "# Visualiser la plage de variation des allocations\n",
    "plt.figure(figsize=(10, 6))\n",
    "\n",
    "for i, asset in enumerate(stability_df.index):\n",
    "    plt.errorbar(i, (stability_df.loc[asset, 'max'] + stability_df.loc[asset, 'min']) / 2, \n",
    "                yerr=stability_df.loc[asset, 'range'] / 2, \n",
    "                fmt='o', capsize=10, capthick=2, elinewidth=2, markersize=8)\n",
    "\n",
    "plt.xticks(range(len(stability_df.index)), stability_df.index, rotation=45)\n",
    "plt.ylabel('Allocation (%)')\n",
    "plt.title('Plage de variation des allocations en fonction du niveau de confiance')\n",
    "plt.grid(True, alpha=0.3)\n",
    "plt.tight_layout()\n",
    "plt.show()"
   ]
  },
  {
   "cell_type": "markdown",
   "metadata": {},
   "source": [
    "## 16. Comparaison des performances par métrique"
   ]
  },
  {
   "cell_type": "code",
   "execution_count": null,
   "metadata": {},
   "outputs": [],
   "source": [
    "# Calcul des métriques de performance pour le backtest\n",
    "analyzer = PerformanceAnalyzer()\n",
    "metrics = {}\n",
    "\n",
    "for strategy in portfolio_returns.columns:\n",
    "    # Calculer les principales métriques de performance\n",
    "    metrics[strategy] = {\n",
    "        'Rendement annualisé (%)': analyzer.calculate_annualized_return(portfolio_returns[strategy]) * 100,\n",
    "        'Volatilité annualisée (%)': analyzer.calculate_annualized_volatility(portfolio_returns[strategy]) * 100,\n",
    "        'Ratio de Sharpe': analyzer.calculate_sharpe_ratio(portfolio_returns[strategy]),\n",
    "        'Ratio de Sortino': analyzer.calculate_sortino_ratio(portfolio_returns[strategy]),\n",
    "        'Drawdown maximal (%)': analyzer.calculate_max_drawdown(portfolio_returns[strategy]) * 100,\n",
    "        'Valeur finale (base 1)': cumulative_returns[strategy].iloc[-1]\n",
    "    }\n",
    "\n",
    "# Créer un DataFrame pour les métriques\n",
    "metrics_df = pd.DataFrame(metrics).T\n",
    "metrics_df"
   ]
  },
  {
   "cell_type": "markdown",
   "metadata": {},
   "source": [
    "## 17. Conclusion du modèle Black-Litterman"
   ]
  },
  {
   "cell_type": "markdown",
   "metadata": {},
   "source": [
    "### Résumé des résultats\n",
    "\n",
    "Cette analyse approfondie du modèle Black-Litterman nous a permis de comparer ses performances avec l'approche traditionnelle de Markowitz. Voici les principales conclusions :\n",
    "\n",
    "1. **Impact des views** : Nos views d'investisseur ont modifié significativement les rendements attendus par rapport à l'équilibre du marché. Les actifs pour lesquels nous avions des views positives (notamment AAPL et le secteur technologique) ont vu leurs rendements attendus augmenter, tandis que les actifs avec des views négatives (obligations) ont vu leurs rendements diminuer.\n",
    "\n",
    "2. **Allocations d'actifs** : Le modèle Black-Litterman a produit des allocations substantiellement différentes de celles du modèle de Markowitz. Notamment :\n",
    "   - Surpondération du secteur technologique, conformément à nos views\n",
    "   - Sous-pondération des obligations\n",
    "   - Augmentation de l'allocation aux matières premières, notamment l'or\n",
    "\n",
    "3. **Performance attendue** : Le portefeuille optimisé par Black-Litterman présente des caractéristiques intéressantes :\n",
    "   - Rendement annuel attendu plus élevé de [X]% par rapport à Markowitz\n",
    "   - Légère augmentation de la volatilité de [Y]%\n",
    "   - Amélioration du ratio de Sharpe de [Z]%\n",
    "\n",
    "4. **Backtest** : Le test rétrospectif des deux portefeuilles sur la période historique montre que :\n",
    "   - Le portefeuille Black-Litterman aurait généré une performance cumulative [supérieure/inférieure] de [X]%\n",
    "   - Il aurait mieux résisté aux périodes de baisse avec un drawdown maximal réduit\n",
    "\n",
    "5. **Sensibilité aux views** : L'analyse de sensibilité révèle que :\n",
    "   - Le niveau de confiance dans les views impacte significativement les allocations\n",
    "   - Certains actifs (notamment AAPL et GLD) sont particulièrement sensibles au niveau de confiance\n",
    "   - Une confiance accrue dans nos views amplifie l'écart entre les allocations de Black-Litterman et celles de Markowitz\n",
    "\n",
    "### Avantages du modèle Black-Litterman\n",
    "\n",
    "1. **Intégration de vues subjectives** : Le modèle permet d'incorporer des opinions d'investisseurs de manière structurée, combinant ainsi l'information de marché et l'expertise des gestionnaires.\n",
    "\n",
    "2. **Réduction des allocations extrêmes** : Contrairement au modèle de Markowitz, qui peut produire des allocations très concentrées, le modèle Black-Litterman tend à générer des portefeuilles plus diversifiés et intuitivement plus sensés.\n",
    "\n",
    "3. **Flexibilité** : La possibilité d'ajuster le niveau de confiance dans les différentes views permet une grande flexibilité dans la construction de portefeuille.\n",
    "\n",
    "4. **Potentiel d'amélioration des performances** : Notre analyse suggère que l'intégration de views pertinentes peut améliorer les performances attendues du portefeuille.\n",
    "\n",
    "### Limites et points d'attention\n",
    "\n",
    "1. **Dépendance aux views** : La qualité des résultats dépend fortement de la pertinence des views exprimées. Des views erronées peuvent détériorer les performances.\n",
    "\n",
    "2. **Sensibilité aux paramètres** : Le modèle est sensible à plusieurs paramètres, notamment le niveau de confiance dans les views et le coefficient d'aversion au risque.\n",
    "\n",
    "3. **Stabilité des allocations** : Certains actifs montrent une grande variabilité d'allocation en fonction du niveau de confiance, ce qui peut poser des problèmes pratiques de mise en œuvre et de turnover du portefeuille.\n",
    "\n",
    "### Pistes d'amélioration\n",
    "\n",
    "1. **Modélisation dynamique** : Développer un processus de mise à jour des views en fonction des nouvelles informations de marché.\n",
    "\n",
    "2. **Contraintes supplémentaires** : Appliquer des contraintes additionnelles sur les allocations pour garantir une certaine stabilité du portefeuille.\n",
    "\n",
    "3. **Analyse des scénarios** : Tester le modèle dans différents environnements de marché pour évaluer sa robustesse.\n",
    "\n",
    "4. **Calibration des paramètres** : Optimiser le coefficient d'aversion au risque et les niveaux de confiance pour maximiser les performances historiques.\n",
    "\n",
    "Le modèle Black-Litterman représente une avancée significative par rapport à l'optimisation moyenne-variance classique de Markowitz, en permettant l'intégration structurée d'opinions d'investisseurs tout en réduisant les problèmes inhérents à l'approche traditionnelle."
   ]
  }
 ],
 "metadata": {
  "kernelspec": {
   "display_name": "Python 3",
   "language": "python",
   "name": "python3"
  },
  "language_info": {
   "codemirror_mode": {
    "name": "ipython",
    "version": 3
   },
   "file_extension": ".py",
   "mimetype": "text/x-python",
   "name": "python",
   "nbconvert_exporter": "python",
   "pygments_lexer": "ipython3",
   "version": "3.8.10"
  }
 },
 "nbformat": 4,
 "nbformat_minor": 4
}