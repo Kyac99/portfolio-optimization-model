{
 "cells": [
  {
   "cell_type": "markdown",
   "metadata": {},
   "source": [
    "# Exploration des Données pour l'Optimisation de Portefeuille\n",
    "\n",
    "Ce notebook explore les données de marché et prépare les inputs nécessaires pour les différentes méthodes d'optimisation de portefeuille."
   ]
  },
  {
   "cell_type": "code",
   "execution_count": null,
   "metadata": {},
   "source": [
    "import numpy as np\n",
    "import pandas as pd\n",
    "import matplotlib.pyplot as plt\n",
    "import seaborn as sns\n",
    "import sys\n",
    "import os\n",
    "\n",
    "# Ajouter le chemin du projet au PYTHONPATH\n",
    "sys.path.append(os.path.abspath('../'))\n",
    "\n",
    "# Configuration des plots\n",
    "plt.style.use('seaborn-v0_8-whitegrid')\n",
    "plt.rcParams['figure.figsize'] = (12, 8)\n",
    "plt.rcParams['font.size'] = 12\n",
    "\n",
    "# Importer les modules personnalisés\n",
    "from src.data.data_collection import MarketDataCollector\n",
    "from src.data.data_processing import DataProcessor"
   ]
  },
  {
   "cell_type": "markdown",
   "metadata": {},
   "source": [
    "## 1. Collecte des Données\n",
    "\n",
    "Nous commençons par collecter les données historiques pour un ensemble d'actions et d'obligations."
   ]
  },
  {
   "cell_type": "code",
   "execution_count": null,
   "metadata": {},
   "source": [
    "# Définir la liste des actifs\n",
    "# Exemples d'actions américaines (S&P 500)\n",
    "stocks = [\n",
    "    'AAPL', 'MSFT', 'AMZN', 'GOOGL', 'META', 'TSLA', 'NVDA', 'BRK-B', 'JPM', 'JNJ', \n",
    "    'PG', 'V', 'UNH', 'HD', 'BAC', 'XOM', 'PFE', 'DIS', 'CSCO', 'VZ'\n",
    "]\n",
    "\n",
    "# ETFs d'obligations (pour représenter différentes classes d'obligations)\n",
    "bonds = [\n",
    "    'AGG',  # iShares Core U.S. Aggregate Bond ETF\n",
    "    'BND',  # Vanguard Total Bond Market ETF\n",
    "    'GOVT', # iShares U.S. Treasury Bond ETF\n",
    "    'TIP',  # iShares TIPS Bond ETF\n",
    "    'HYG',  # iShares iBoxx $ High Yield Corporate Bond ETF\n",
    "    'LQD',  # iShares iBoxx $ Investment Grade Corporate Bond ETF\n",
    "    'MUB',  # iShares National Muni Bond ETF\n",
    "    'BWX',  # SPDR Bloomberg International Treasury Bond ETF\n",
    "    'EMB',  # iShares J.P. Morgan USD Emerging Markets Bond ETF\n",
    "    'VCSH'  # Vanguard Short-Term Corporate Bond ETF\n",
    "]\n",
    "\n",
    "# Autres actifs (Or, Immobilier, Matières premières)\n",
    "alternatives = [\n",
    "    'GLD',  # SPDR Gold Shares\n",
    "    'VNQ',  # Vanguard Real Estate ETF\n",
    "    'GSG',  # iShares S&P GSCI Commodity-Indexed Trust\n",
    "    'BTC-USD' # Bitcoin\n",
    "]\n",
    "\n",
    "all_assets = stocks + bonds + alternatives\n",
    "\n",
    "# Période de collecte des données\n",
    "start_date = '2015-01-01'\n",
    "end_date = '2025-01-01'"
   ]
  },
  {
   "cell_type": "code",
   "execution_count": null,
   "metadata": {},
   "source": [
    "# Initialiser le collecteur de données\n",
    "data_collector = MarketDataCollector()\n",
    "\n",
    "# Collecter les prix historiques\n",
    "prices_df = data_collector.download_data(all_assets, start_date, end_date, interval='1d')\n",
    "\n",
    "# Afficher les premières lignes\n",
    "prices_df.head()"
   ]
  },
  {
   "cell_type": "code",
   "execution_count": null,
   "metadata": {},
   "source": [
    "# Sauvegarder les données brutes\n",
    "os.makedirs('../data/raw', exist_ok=True)\n",
    "prices_df.to_csv('../data/raw/historical_prices.csv')"
   ]
  },
  {
   "cell_type": "markdown",
   "metadata": {},
   "source": [
    "## 2. Préparation et Nettoyage des Données"
   ]
  },
  {
   "cell_type": "code",
   "execution_count": null,
   "metadata": {},
   "source": [
    "# Initialiser le processeur de données\n",
    "data_processor = DataProcessor(prices_df)\n",
    "\n",
    "# Calculer les rendements\n",
    "returns_df = data_processor.calculate_returns(method='log')\n",
    "\n",
    "# Afficher les premières lignes\n",
    "returns_df.head()"
   ]
  },
  {
   "cell_type": "code",
   "execution_count": null,
   "metadata": {},
   "source": [
    "# Vérifier les données manquantes\n",
    "missing_data = returns_df.isnull().sum()\n",
    "print(\"Nombre de valeurs manquantes par actif:\")\n",
    "print(missing_data[missing_data > 0])"
   ]
  },
  {
   "cell_type": "code",
   "execution_count": null,
   "metadata": {},
   "source": [
    "# Traiter les valeurs manquantes\n",
    "returns_df_clean = data_processor.handle_missing_values(returns_df, method='ffill')\n",
    "\n",
    "# Vérifier qu'il n'y a plus de valeurs manquantes\n",
    "print(\"Nombre de valeurs manquantes après traitement:\")\n",
    "print(returns_df_clean.isnull().sum().sum())"
   ]
  },
  {
   "cell_type": "markdown",
   "metadata": {},
   "source": [
    "## 3. Analyse Exploratoire"
   ]
  },
  {
   "cell_type": "code",
   "execution_count": null,
   "metadata": {},
   "source": [
    "# Statistiques descriptives des rendements\n",
    "returns_stats = returns_df_clean.describe().T\n",
    "returns_stats['annualized_return'] = returns_df_clean.mean() * 252\n",
    "returns_stats['annualized_volatility'] = returns_df_clean.std() * np.sqrt(252)\n",
    "returns_stats['sharpe_ratio'] = returns_stats['annualized_return'] / returns_stats['annualized_volatility']\n",
    "\n",
    "# Trier par ratio de Sharpe\n",
    "returns_stats.sort_values('sharpe_ratio', ascending=False).head(10)"
   ]
  },
  {
   "cell_type": "code",
   "execution_count": null,
   "metadata": {},
   "source": [
    "# Visualiser la distribution des rendements\n",
    "plt.figure(figsize=(15, 10))\n",
    "\n",
    "# Sélectionner un sous-ensemble d'actifs pour la lisibilité\n",
    "selected_assets = ['AAPL', 'MSFT', 'AMZN', 'AGG', 'BND', 'GLD', 'VNQ']\n",
    "selected_returns = returns_df_clean[selected_assets]\n",
    "\n",
    "# Tracé des distributions\n",
    "for column in selected_returns.columns:\n",
    "    sns.kdeplot(selected_returns[column], label=column)\n",
    "\n",
    "plt.title('Distribution des Rendements Journaliers')\n",
    "plt.xlabel('Rendement')\n",
    "plt.ylabel('Densité')\n",
    "plt.legend()\n",
    "plt.grid(True)\n",
    "plt.show()"
   ]
  },
  {
   "cell_type": "code",
   "execution_count": null,
   "metadata": {},
   "source": [
    "# Matrice de corrélation\n",
    "corr_matrix = returns_df_clean.corr()\n",
    "\n",
    "# Visualisation de la matrice de corrélation\n",
    "plt.figure(figsize=(16, 14))\n",
    "mask = np.triu(np.ones_like(corr_matrix, dtype=bool))\n",
    "cmap = sns.diverging_palette(230, 20, as_cmap=True)\n",
    "\n",
    "sns.heatmap(corr_matrix, mask=mask, cmap=cmap, vmax=1, vmin=-1, center=0,\n",
    "            square=True, linewidths=.5, annot=False, fmt='.2f')\n",
    "\n",
    "plt.title('Matrice de Corrélation des Rendements')\n",
    "plt.tight_layout()\n",
    "plt.show()"
   ]
  },
  {
   "cell_type": "markdown",
   "metadata": {},
   "source": [
    "## 4. Préparation des Données pour l'Optimisation"
   ]
  },
  {
   "cell_type": "code",
   "execution_count": null,
   "metadata": {},
   "source": [
    "# Calculer les rendements moyens annualisés\n",
    "expected_returns = returns_df_clean.mean() * 252\n",
    "\n",
    "# Calculer la matrice de covariance annualisée\n",
    "cov_matrix = returns_df_clean.cov() * 252\n",
    "\n",
    "# Afficher les rendements attendus\n",
    "expected_returns.sort_values(ascending=False).head(10)"
   ]
  },
  {
   "cell_type": "code",
   "execution_count": null,
   "metadata": {},
   "source": [
    "# Sauvegarder les données traitées\n",
    "os.makedirs('../data/processed', exist_ok=True)\n",
    "returns_df_clean.to_csv('../data/processed/cleaned_returns.csv')\n",
    "\n",
    "# Sauvegarder les rendements attendus et la matrice de covariance\n",
    "expected_returns.to_csv('../data/processed/expected_returns.csv')\n",
    "cov_matrix.to_csv('../data/processed/covariance_matrix.csv')"
   ]
  },
  {
   "cell_type": "markdown",
   "metadata": {},
   "source": [
    "## 5. Analyse des classes d'actifs"
   ]
  },
  {
   "cell_type": "code",
   "execution_count": null,
   "metadata": {},
   "source": [
    "# Créer des dataframes par classe d'actifs\n",
    "stocks_returns = returns_df_clean[stocks]\n",
    "bonds_returns = returns_df_clean[bonds]\n",
    "alts_returns = returns_df_clean[alternatives]\n",
    "\n",
    "# Calculer les rendements et volatilités moyens par classe d'actifs\n",
    "asset_classes = {\n",
    "    'Actions': stocks_returns,\n",
    "    'Obligations': bonds_returns,\n",
    "    'Alternatifs': alts_returns\n",
    "}\n",
    "\n",
    "# Calculer les statistiques par classe d'actifs\n",
    "class_stats = {}\n",
    "for name, df in asset_classes.items():\n",
    "    ret = df.mean() * 252\n",
    "    vol = df.std() * np.sqrt(252)\n",
    "    sharpe = ret / vol\n",
    "    class_stats[name] = {\n",
    "        'return': ret.mean(),\n",
    "        'volatility': vol.mean(),\n",
    "        'sharpe': sharpe.mean()\n",
    "    }\n",
    "\n",
    "# Convertir en DataFrame pour l'affichage\n",
    "class_stats_df = pd.DataFrame(class_stats).T\n",
    "class_stats_df"
   ]
  },
  {
   "cell_type": "code",
   "execution_count": null,
   "metadata": {},
   "source": [
    "# Visualiser les rendements cumulés par classe d'actifs\n",
    "plt.figure(figsize=(14, 8))\n",
    "\n",
    "# Calculer les rendements cumulés (stratégie équipondérée au sein de chaque classe)\n",
    "cumulative_returns = {}\n",
    "for name, df in asset_classes.items():\n",
    "    # Moyenne équipondérée des rendements journaliers\n",
    "    avg_returns = df.mean(axis=1)\n",
    "    # Rendement cumulé\n",
    "    cumulative = (1 + avg_returns).cumprod() - 1\n",
    "    plt.plot(cumulative.index, cumulative, label=name)\n",
    "\n",
    "plt.title('Rendements Cumulés par Classe d\\'Actifs')\n",
    "plt.xlabel('Date')\n",
    "plt.ylabel('Rendement Cumulé')\n",
    "plt.legend()\n",
    "plt.grid(True)\n",
    "plt.show()"
   ]
  },
  {
   "cell_type": "markdown",
   "metadata": {},
   "source": [
    "## 6. Conclusion\n",
    "\n",
    "Ce notebook a permis d'explorer et de préparer les données pour les différentes méthodes d'optimisation de portefeuille. Nous avons:\n",
    "\n",
    "1. Collecté les données historiques pour un ensemble diversifié d'actifs\n",
    "2. Nettoyé et préparé les données en traitant les valeurs manquantes\n",
    "3. Analysé les caractéristiques statistiques des rendements\n",
    "4. Étudié les corrélations entre les actifs\n",
    "5. Calculé les rendements attendus et la matrice de covariance pour l'optimisation\n",
    "6. Comparé les performances des différentes classes d'actifs\n",
    "\n",
    "Les prochains notebooks utiliseront ces données préparées pour implémenter et évaluer différentes méthodes d'optimisation de portefeuille."
   ]
  }
 ],
 "metadata": {
  "language_info": {
   "name": "python",
   "codemirror_mode": {
    "name": "ipython",
    "version": 3
   }
  }
 },
 "nbformat": 4,
 "nbformat_minor": 4
}